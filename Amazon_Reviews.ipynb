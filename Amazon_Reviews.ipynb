{
 "cells": [
  {
   "cell_type": "code",
   "execution_count": 1,
   "metadata": {},
   "outputs": [],
   "source": [
    "import numpy as np\n",
    "import pandas as pd\n",
    "import matplotlib.pyplot as plt\n",
    "import seaborn as sns\n",
    "sns.set_style('darkgrid')"
   ]
  },
  {
   "cell_type": "code",
   "execution_count": 2,
   "metadata": {},
   "outputs": [],
   "source": [
    "data = pd.read_csv('/Users/javadzabihi/Downloads/IS698 project/Reviews.csv')"
   ]
  },
  {
   "cell_type": "code",
   "execution_count": 4,
   "metadata": {},
   "outputs": [
    {
     "data": {
      "text/html": [
       "<div>\n",
       "<style scoped>\n",
       "    .dataframe tbody tr th:only-of-type {\n",
       "        vertical-align: middle;\n",
       "    }\n",
       "\n",
       "    .dataframe tbody tr th {\n",
       "        vertical-align: top;\n",
       "    }\n",
       "\n",
       "    .dataframe thead th {\n",
       "        text-align: right;\n",
       "    }\n",
       "</style>\n",
       "<table border=\"1\" class=\"dataframe\">\n",
       "  <thead>\n",
       "    <tr style=\"text-align: right;\">\n",
       "      <th></th>\n",
       "      <th>Id</th>\n",
       "      <th>ProductId</th>\n",
       "      <th>UserId</th>\n",
       "      <th>ProfileName</th>\n",
       "      <th>HelpfulnessNumerator</th>\n",
       "      <th>HelpfulnessDenominator</th>\n",
       "      <th>Score</th>\n",
       "      <th>Time</th>\n",
       "      <th>Summary</th>\n",
       "      <th>Text</th>\n",
       "    </tr>\n",
       "  </thead>\n",
       "  <tbody>\n",
       "    <tr>\n",
       "      <th>0</th>\n",
       "      <td>1</td>\n",
       "      <td>B001E4KFG0</td>\n",
       "      <td>A3SGXH7AUHU8GW</td>\n",
       "      <td>delmartian</td>\n",
       "      <td>1</td>\n",
       "      <td>1</td>\n",
       "      <td>5</td>\n",
       "      <td>1303862400</td>\n",
       "      <td>Good Quality Dog Food</td>\n",
       "      <td>I have bought several of the Vitality canned d...</td>\n",
       "    </tr>\n",
       "    <tr>\n",
       "      <th>1</th>\n",
       "      <td>2</td>\n",
       "      <td>B00813GRG4</td>\n",
       "      <td>A1D87F6ZCVE5NK</td>\n",
       "      <td>dll pa</td>\n",
       "      <td>0</td>\n",
       "      <td>0</td>\n",
       "      <td>1</td>\n",
       "      <td>1346976000</td>\n",
       "      <td>Not as Advertised</td>\n",
       "      <td>Product arrived labeled as Jumbo Salted Peanut...</td>\n",
       "    </tr>\n",
       "  </tbody>\n",
       "</table>\n",
       "</div>"
      ],
      "text/plain": [
       "   Id   ProductId          UserId ProfileName  HelpfulnessNumerator  \\\n",
       "0   1  B001E4KFG0  A3SGXH7AUHU8GW  delmartian                     1   \n",
       "1   2  B00813GRG4  A1D87F6ZCVE5NK      dll pa                     0   \n",
       "\n",
       "   HelpfulnessDenominator  Score        Time                Summary  \\\n",
       "0                       1      5  1303862400  Good Quality Dog Food   \n",
       "1                       0      1  1346976000      Not as Advertised   \n",
       "\n",
       "                                                Text  \n",
       "0  I have bought several of the Vitality canned d...  \n",
       "1  Product arrived labeled as Jumbo Salted Peanut...  "
      ]
     },
     "execution_count": 4,
     "metadata": {},
     "output_type": "execute_result"
    }
   ],
   "source": [
    "data.head(2)"
   ]
  },
  {
   "cell_type": "code",
   "execution_count": 5,
   "metadata": {},
   "outputs": [
    {
     "name": "stdout",
     "output_type": "stream",
     "text": [
      "<class 'pandas.core.frame.DataFrame'>\n",
      "RangeIndex: 568454 entries, 0 to 568453\n",
      "Data columns (total 10 columns):\n",
      "Id                        568454 non-null int64\n",
      "ProductId                 568454 non-null object\n",
      "UserId                    568454 non-null object\n",
      "ProfileName               568438 non-null object\n",
      "HelpfulnessNumerator      568454 non-null int64\n",
      "HelpfulnessDenominator    568454 non-null int64\n",
      "Score                     568454 non-null int64\n",
      "Time                      568454 non-null int64\n",
      "Summary                   568427 non-null object\n",
      "Text                      568454 non-null object\n",
      "dtypes: int64(5), object(5)\n",
      "memory usage: 43.4+ MB\n"
     ]
    }
   ],
   "source": [
    "data.info()"
   ]
  },
  {
   "cell_type": "code",
   "execution_count": 6,
   "metadata": {},
   "outputs": [
    {
     "data": {
      "text/plain": [
       "Id                         0\n",
       "ProductId                  0\n",
       "UserId                     0\n",
       "ProfileName               16\n",
       "HelpfulnessNumerator       0\n",
       "HelpfulnessDenominator     0\n",
       "Score                      0\n",
       "Time                       0\n",
       "Summary                   27\n",
       "Text                       0\n",
       "dtype: int64"
      ]
     },
     "execution_count": 6,
     "metadata": {},
     "output_type": "execute_result"
    }
   ],
   "source": [
    "data.isnull().sum()"
   ]
  },
  {
   "cell_type": "code",
   "execution_count": 7,
   "metadata": {},
   "outputs": [
    {
     "data": {
      "text/plain": [
       "5    363122\n",
       "4     80655\n",
       "1     52268\n",
       "3     42640\n",
       "2     29769\n",
       "Name: Score, dtype: int64"
      ]
     },
     "execution_count": 7,
     "metadata": {},
     "output_type": "execute_result"
    }
   ],
   "source": [
    "data.Score.value_counts()"
   ]
  },
  {
   "cell_type": "code",
   "execution_count": 4,
   "metadata": {},
   "outputs": [],
   "source": [
    "# \"Positive\" : 1, \"Negative\": 0\n",
    "data['Sentiment'] = data['Score'].apply(lambda score: 1 if score > 3 else 0)"
   ]
  },
  {
   "cell_type": "code",
   "execution_count": 9,
   "metadata": {},
   "outputs": [
    {
     "data": {
      "text/plain": [
       "1    443777\n",
       "0    124677\n",
       "Name: Sentiment, dtype: int64"
      ]
     },
     "execution_count": 9,
     "metadata": {},
     "output_type": "execute_result"
    }
   ],
   "source": [
    "data.Sentiment.value_counts()"
   ]
  },
  {
   "cell_type": "code",
   "execution_count": 7,
   "metadata": {},
   "outputs": [],
   "source": [
    "### I'm choosing a very small subset of the dataset to speed up the run\n",
    "X = data.loc[:500,'Text']\n",
    "y = data.loc[:500,'Sentiment']"
   ]
  },
  {
   "cell_type": "code",
   "execution_count": 5,
   "metadata": {},
   "outputs": [],
   "source": [
    "from nltk.stem.porter import PorterStemmer\n",
    "\n",
    "\n",
    "# One way to split the text corpora into individual elements is\n",
    "# to split them into individual words by splitting the cleaned documents \n",
    "# at its whitespace characters.\n",
    "\n",
    "def tokenizer(text):\n",
    "    return text.split()\n",
    "\n",
    "\n",
    "# A useful technique in the context of tokenization is word stemming, which\n",
    "# is the process of transforming a word into its root form. \n",
    "# It allows us to map related words to the same stem.\n",
    "\n",
    "porter = PorterStemmer()\n",
    "\n",
    "def tokenizer_porter(text):\n",
    "    return [porter.stem(word) for word in text.split()]"
   ]
  },
  {
   "cell_type": "code",
   "execution_count": 6,
   "metadata": {},
   "outputs": [
    {
     "name": "stdout",
     "output_type": "stream",
     "text": [
      "[nltk_data] Downloading package stopwords to\n",
      "[nltk_data]     /Users/javadzabihi/nltk_data...\n",
      "[nltk_data]   Package stopwords is already up-to-date!\n"
     ]
    }
   ],
   "source": [
    "import nltk\n",
    "\n",
    "nltk.download('stopwords')\n",
    "\n",
    "# Removing stop-words can be useful if we are working with raw or \n",
    "# normalized term frequencies rather than tf-idfs, which are already \n",
    "# downweighting frequently occurring words.\n",
    "\n",
    "from nltk.corpus import stopwords\n",
    "\n",
    "stop = stopwords.words('english')"
   ]
  },
  {
   "cell_type": "code",
   "execution_count": 8,
   "metadata": {},
   "outputs": [],
   "source": [
    "from sklearn.model_selection import train_test_split\n",
    "\n",
    "X_train, X_test, y_train, y_test = train_test_split(X, y, test_size=0.33, random_state=42, stratify = y)"
   ]
  },
  {
   "cell_type": "markdown",
   "metadata": {},
   "source": [
    "# Sentiment analysis"
   ]
  },
  {
   "cell_type": "code",
   "execution_count": 9,
   "metadata": {},
   "outputs": [],
   "source": [
    "from sklearn.pipeline import Pipeline\n",
    "from sklearn.linear_model import LogisticRegression\n",
    "from sklearn.feature_extraction.text import TfidfVectorizer\n",
    "from sklearn.model_selection import GridSearchCV\n",
    "\n",
    "\n",
    "###### TfidfVectorizer combines the task of CountVectorizer and TfidfTransformer.\n",
    "# from sklearn.feature_extraction.text import CountVectorizer\n",
    "# count = CountVectorizer()\n",
    "# from sklearn.feature_extraction.text import TfidfTransformer\n",
    "# tfidf = TfidfTransformer(use_idf=True, \n",
    "#                         norm='l2', \n",
    "#                         smooth_idf=True)\n",
    "# tfidf.fit_transform(count.fit_transform(text)).toarray()\n",
    "\n",
    "tfidf = TfidfVectorizer(strip_accents=None,\n",
    "                        lowercase=False,\n",
    "                        preprocessor=None)\n",
    "\n",
    "# Using a GridSearchCV object to find the optimal set of parameters \n",
    "# for our logistic regression model.\n",
    "\n",
    "param_grid = [{'vect__ngram_range': [(1, 1)],\n",
    "               'vect__stop_words': [stop, None],\n",
    "               'vect__tokenizer': [tokenizer, tokenizer_porter],\n",
    "               'clf__penalty': ['l1', 'l2'],\n",
    "               'clf__C': [1.0, 10.0, 100.0]},\n",
    "              {'vect__ngram_range': [(1, 1)],\n",
    "               'vect__stop_words': [stop, None],\n",
    "               'vect__tokenizer': [tokenizer, tokenizer_porter],\n",
    "               'vect__use_idf':[False],\n",
    "               'vect__norm':[None],\n",
    "               'clf__penalty': ['l1', 'l2'],\n",
    "               'clf__C': [1.0, 10.0, 100.0]},\n",
    "              ]\n",
    "\n",
    "lr_tfidf = Pipeline([('vect', tfidf),\n",
    "                     ('clf', LogisticRegression(random_state=0))])\n",
    "\n",
    "gs_lr_tfidf = GridSearchCV(lr_tfidf, param_grid,\n",
    "                           scoring='accuracy',\n",
    "                           cv=5,\n",
    "                           verbose=1,\n",
    "                           n_jobs=-1)"
   ]
  },
  {
   "cell_type": "code",
   "execution_count": 10,
   "metadata": {},
   "outputs": [
    {
     "name": "stdout",
     "output_type": "stream",
     "text": [
      "Fitting 5 folds for each of 48 candidates, totalling 240 fits\n"
     ]
    },
    {
     "name": "stderr",
     "output_type": "stream",
     "text": [
      "[Parallel(n_jobs=-1)]: Done  80 tasks      | elapsed:   12.9s\n",
      "[Parallel(n_jobs=-1)]: Done 230 tasks      | elapsed:   37.9s\n",
      "[Parallel(n_jobs=-1)]: Done 240 out of 240 | elapsed:   40.0s finished\n"
     ]
    },
    {
     "name": "stdout",
     "output_type": "stream",
     "text": [
      "Best parameter set: {'clf__C': 10.0, 'clf__penalty': 'l2', 'vect__ngram_range': (1, 1), 'vect__norm': None, 'vect__stop_words': None, 'vect__tokenizer': <function tokenizer_porter at 0x1a1fc35488>, 'vect__use_idf': False} \n",
      "CV Accuracy: 0.836\n",
      "Test Accuracy: 0.867\n"
     ]
    }
   ],
   "source": [
    "gs_lr_tfidf.fit(X_train, y_train)\n",
    "print('Best parameter set: %s ' % gs_lr_tfidf.best_params_)\n",
    "\n",
    "# The \"best_score_\" attribute returns the average score over the k-folds of the best model.\n",
    "print('CV Accuracy: %.3f' % gs_lr_tfidf.best_score_)\n",
    "\n",
    "clf = gs_lr_tfidf.best_estimator_\n",
    "print('Test Accuracy: %.3f' % clf.score(X_test, y_test))"
   ]
  },
  {
   "cell_type": "code",
   "execution_count": 16,
   "metadata": {},
   "outputs": [],
   "source": [
    "# The best grid search results using Porter stemming instead of the regular tokenizer, \n",
    "# no stop-word library, and a logistic regression classifier \n",
    "# that uses L2-regularization with the regularization strength C of 10.0\n",
    "# based of raw term frequencies.\n",
    "# regularization strengths is defined by the inverse-regularization parameter C.\n"
   ]
  },
  {
   "cell_type": "markdown",
   "metadata": {},
   "source": [
    "# Recommendation Engine"
   ]
  },
  {
   "cell_type": "code",
   "execution_count": 3,
   "metadata": {},
   "outputs": [
    {
     "data": {
      "text/html": [
       "<div>\n",
       "<style scoped>\n",
       "    .dataframe tbody tr th:only-of-type {\n",
       "        vertical-align: middle;\n",
       "    }\n",
       "\n",
       "    .dataframe tbody tr th {\n",
       "        vertical-align: top;\n",
       "    }\n",
       "\n",
       "    .dataframe thead th {\n",
       "        text-align: right;\n",
       "    }\n",
       "</style>\n",
       "<table border=\"1\" class=\"dataframe\">\n",
       "  <thead>\n",
       "    <tr style=\"text-align: right;\">\n",
       "      <th></th>\n",
       "      <th>ProductId</th>\n",
       "      <th>UserId</th>\n",
       "      <th>Score</th>\n",
       "      <th>Time</th>\n",
       "    </tr>\n",
       "  </thead>\n",
       "  <tbody>\n",
       "    <tr>\n",
       "      <th>0</th>\n",
       "      <td>B001E4KFG0</td>\n",
       "      <td>A3SGXH7AUHU8GW</td>\n",
       "      <td>5</td>\n",
       "      <td>1303862400</td>\n",
       "    </tr>\n",
       "    <tr>\n",
       "      <th>1</th>\n",
       "      <td>B00813GRG4</td>\n",
       "      <td>A1D87F6ZCVE5NK</td>\n",
       "      <td>1</td>\n",
       "      <td>1346976000</td>\n",
       "    </tr>\n",
       "  </tbody>\n",
       "</table>\n",
       "</div>"
      ],
      "text/plain": [
       "    ProductId          UserId  Score        Time\n",
       "0  B001E4KFG0  A3SGXH7AUHU8GW      5  1303862400\n",
       "1  B00813GRG4  A1D87F6ZCVE5NK      1  1346976000"
      ]
     },
     "execution_count": 3,
     "metadata": {},
     "output_type": "execute_result"
    }
   ],
   "source": [
    "data_recommender = data.loc[:, ['ProductId', 'UserId', 'Score', 'Time']]\n",
    "data_recommender.head(2)"
   ]
  },
  {
   "cell_type": "code",
   "execution_count": 12,
   "metadata": {},
   "outputs": [],
   "source": [
    "# Calculation the number of unique users and products\n",
    "\n",
    "n_users = data.UserId.unique().shape[0]   # 256059\n",
    "n_products = data.ProductId.unique().shape[0] # 74258"
   ]
  },
  {
   "cell_type": "code",
   "execution_count": 13,
   "metadata": {},
   "outputs": [
    {
     "data": {
      "text/html": [
       "<div>\n",
       "<style scoped>\n",
       "    .dataframe tbody tr th:only-of-type {\n",
       "        vertical-align: middle;\n",
       "    }\n",
       "\n",
       "    .dataframe tbody tr th {\n",
       "        vertical-align: top;\n",
       "    }\n",
       "\n",
       "    .dataframe thead th {\n",
       "        text-align: right;\n",
       "    }\n",
       "</style>\n",
       "<table border=\"1\" class=\"dataframe\">\n",
       "  <thead>\n",
       "    <tr style=\"text-align: right;\">\n",
       "      <th></th>\n",
       "      <th>Score</th>\n",
       "    </tr>\n",
       "    <tr>\n",
       "      <th>ProductId</th>\n",
       "      <th></th>\n",
       "    </tr>\n",
       "  </thead>\n",
       "  <tbody>\n",
       "    <tr>\n",
       "      <th>0006641040</th>\n",
       "      <td>4.351351</td>\n",
       "    </tr>\n",
       "    <tr>\n",
       "      <th>141278509X</th>\n",
       "      <td>5.000000</td>\n",
       "    </tr>\n",
       "    <tr>\n",
       "      <th>2734888454</th>\n",
       "      <td>3.500000</td>\n",
       "    </tr>\n",
       "    <tr>\n",
       "      <th>2841233731</th>\n",
       "      <td>5.000000</td>\n",
       "    </tr>\n",
       "    <tr>\n",
       "      <th>7310172001</th>\n",
       "      <td>4.751445</td>\n",
       "    </tr>\n",
       "  </tbody>\n",
       "</table>\n",
       "</div>"
      ],
      "text/plain": [
       "               Score\n",
       "ProductId           \n",
       "0006641040  4.351351\n",
       "141278509X  5.000000\n",
       "2734888454  3.500000\n",
       "2841233731  5.000000\n",
       "7310172001  4.751445"
      ]
     },
     "execution_count": 13,
     "metadata": {},
     "output_type": "execute_result"
    }
   ],
   "source": [
    "# creating a dataframe with the average rating for each product\n",
    "\n",
    "ratings = pd.DataFrame(data_recommender.groupby('ProductId')['Score'].mean())\n",
    "ratings.head()"
   ]
  },
  {
   "cell_type": "code",
   "execution_count": 14,
   "metadata": {},
   "outputs": [
    {
     "data": {
      "text/html": [
       "<div>\n",
       "<style scoped>\n",
       "    .dataframe tbody tr th:only-of-type {\n",
       "        vertical-align: middle;\n",
       "    }\n",
       "\n",
       "    .dataframe tbody tr th {\n",
       "        vertical-align: top;\n",
       "    }\n",
       "\n",
       "    .dataframe thead th {\n",
       "        text-align: right;\n",
       "    }\n",
       "</style>\n",
       "<table border=\"1\" class=\"dataframe\">\n",
       "  <thead>\n",
       "    <tr style=\"text-align: right;\">\n",
       "      <th></th>\n",
       "      <th>Score</th>\n",
       "      <th>number_of_ratings</th>\n",
       "    </tr>\n",
       "    <tr>\n",
       "      <th>ProductId</th>\n",
       "      <th></th>\n",
       "      <th></th>\n",
       "    </tr>\n",
       "  </thead>\n",
       "  <tbody>\n",
       "    <tr>\n",
       "      <th>0006641040</th>\n",
       "      <td>4.351351</td>\n",
       "      <td>37</td>\n",
       "    </tr>\n",
       "    <tr>\n",
       "      <th>141278509X</th>\n",
       "      <td>5.000000</td>\n",
       "      <td>1</td>\n",
       "    </tr>\n",
       "    <tr>\n",
       "      <th>2734888454</th>\n",
       "      <td>3.500000</td>\n",
       "      <td>2</td>\n",
       "    </tr>\n",
       "    <tr>\n",
       "      <th>2841233731</th>\n",
       "      <td>5.000000</td>\n",
       "      <td>1</td>\n",
       "    </tr>\n",
       "    <tr>\n",
       "      <th>7310172001</th>\n",
       "      <td>4.751445</td>\n",
       "      <td>173</td>\n",
       "    </tr>\n",
       "  </tbody>\n",
       "</table>\n",
       "</div>"
      ],
      "text/plain": [
       "               Score  number_of_ratings\n",
       "ProductId                              \n",
       "0006641040  4.351351                 37\n",
       "141278509X  5.000000                  1\n",
       "2734888454  3.500000                  2\n",
       "2841233731  5.000000                  1\n",
       "7310172001  4.751445                173"
      ]
     },
     "execution_count": 14,
     "metadata": {},
     "output_type": "execute_result"
    }
   ],
   "source": [
    "# Adding the number of ratings for each product to the ratings dataframe\n",
    "\n",
    "ratings['number_of_ratings'] = data_recommender.groupby('ProductId')['Score'].count()\n",
    "ratings.head()"
   ]
  },
  {
   "cell_type": "code",
   "execution_count": 15,
   "metadata": {},
   "outputs": [
    {
     "data": {
      "text/html": [
       "<div>\n",
       "<style scoped>\n",
       "    .dataframe tbody tr th:only-of-type {\n",
       "        vertical-align: middle;\n",
       "    }\n",
       "\n",
       "    .dataframe tbody tr th {\n",
       "        vertical-align: top;\n",
       "    }\n",
       "\n",
       "    .dataframe thead th {\n",
       "        text-align: right;\n",
       "    }\n",
       "</style>\n",
       "<table border=\"1\" class=\"dataframe\">\n",
       "  <thead>\n",
       "    <tr style=\"text-align: right;\">\n",
       "      <th></th>\n",
       "      <th>Score</th>\n",
       "      <th>number_of_ratings</th>\n",
       "    </tr>\n",
       "    <tr>\n",
       "      <th>ProductId</th>\n",
       "      <th></th>\n",
       "      <th></th>\n",
       "    </tr>\n",
       "  </thead>\n",
       "  <tbody>\n",
       "    <tr>\n",
       "      <th>B007JFMH8M</th>\n",
       "      <td>4.582694</td>\n",
       "      <td>913</td>\n",
       "    </tr>\n",
       "    <tr>\n",
       "      <th>B0026RQTGE</th>\n",
       "      <td>4.588608</td>\n",
       "      <td>632</td>\n",
       "    </tr>\n",
       "    <tr>\n",
       "      <th>B002QWHJOU</th>\n",
       "      <td>4.588608</td>\n",
       "      <td>632</td>\n",
       "    </tr>\n",
       "    <tr>\n",
       "      <th>B002QWP89S</th>\n",
       "      <td>4.588608</td>\n",
       "      <td>632</td>\n",
       "    </tr>\n",
       "    <tr>\n",
       "      <th>B002QWP8H0</th>\n",
       "      <td>4.588608</td>\n",
       "      <td>632</td>\n",
       "    </tr>\n",
       "    <tr>\n",
       "      <th>B003B3OOPA</th>\n",
       "      <td>4.739968</td>\n",
       "      <td>623</td>\n",
       "    </tr>\n",
       "    <tr>\n",
       "      <th>B001EO5Q64</th>\n",
       "      <td>4.746032</td>\n",
       "      <td>567</td>\n",
       "    </tr>\n",
       "    <tr>\n",
       "      <th>B0026KPDG8</th>\n",
       "      <td>4.310284</td>\n",
       "      <td>564</td>\n",
       "    </tr>\n",
       "    <tr>\n",
       "      <th>B000VK8AVK</th>\n",
       "      <td>4.310284</td>\n",
       "      <td>564</td>\n",
       "    </tr>\n",
       "    <tr>\n",
       "      <th>B006HYLW32</th>\n",
       "      <td>4.310284</td>\n",
       "      <td>564</td>\n",
       "    </tr>\n",
       "  </tbody>\n",
       "</table>\n",
       "</div>"
      ],
      "text/plain": [
       "               Score  number_of_ratings\n",
       "ProductId                              \n",
       "B007JFMH8M  4.582694                913\n",
       "B0026RQTGE  4.588608                632\n",
       "B002QWHJOU  4.588608                632\n",
       "B002QWP89S  4.588608                632\n",
       "B002QWP8H0  4.588608                632\n",
       "B003B3OOPA  4.739968                623\n",
       "B001EO5Q64  4.746032                567\n",
       "B0026KPDG8  4.310284                564\n",
       "B000VK8AVK  4.310284                564\n",
       "B006HYLW32  4.310284                564"
      ]
     },
     "execution_count": 15,
     "metadata": {},
     "output_type": "execute_result"
    }
   ],
   "source": [
    "ratings.sort_values('number_of_ratings', ascending=False).head(10)"
   ]
  },
  {
   "cell_type": "code",
   "execution_count": 24,
   "metadata": {},
   "outputs": [
    {
     "data": {
      "text/plain": [
       "<matplotlib.axes._subplots.AxesSubplot at 0x1a19d04978>"
      ]
     },
     "execution_count": 24,
     "metadata": {},
     "output_type": "execute_result"
    },
    {
     "data": {
      "image/png": "[encoded data removed]",
      "text/plain": [
       "<Figure size 432x288 with 1 Axes>"
      ]
     },
     "metadata": {},
     "output_type": "display_data"
    }
   ],
   "source": [
    "ratings['Score'].hist(bins=50)"
   ]
  },
  {
   "cell_type": "code",
   "execution_count": 25,
   "metadata": {},
   "outputs": [
    {
     "data": {
      "text/plain": [
       "<matplotlib.axes._subplots.AxesSubplot at 0x1a19cd6e48>"
      ]
     },
     "execution_count": 25,
     "metadata": {},
     "output_type": "execute_result"
    },
    {
     "data": {
      "image/png": "[encoded data removed]",
      "text/plain": [
       "<Figure size 432x288 with 1 Axes>"
      ]
     },
     "metadata": {},
     "output_type": "display_data"
    }
   ],
   "source": [
    "ratings['number_of_ratings'].hist(bins=60)"
   ]
  },
  {
   "cell_type": "code",
   "execution_count": 26,
   "metadata": {},
   "outputs": [
    {
     "name": "stderr",
     "output_type": "stream",
     "text": [
      "/Applications/anaconda3/lib/python3.6/site-packages/scipy/stats/stats.py:1713: FutureWarning: Using a non-tuple sequence for multidimensional indexing is deprecated; use `arr[tuple(seq)]` instead of `arr[seq]`. In the future this will be interpreted as an array index, `arr[np.array(seq)]`, which will result either in an error or a different result.\n",
      "  return np.add.reduce(sorted[indexer] * weights, axis=axis) / sumval\n",
      "/Applications/anaconda3/lib/python3.6/site-packages/matplotlib/axes/_axes.py:6571: UserWarning: The 'normed' kwarg is deprecated, and has been replaced by the 'density' kwarg.\n",
      "  warnings.warn(\"The 'normed' kwarg is deprecated, and has been \"\n",
      "/Applications/anaconda3/lib/python3.6/site-packages/matplotlib/axes/_axes.py:6571: UserWarning: The 'normed' kwarg is deprecated, and has been replaced by the 'density' kwarg.\n",
      "  warnings.warn(\"The 'normed' kwarg is deprecated, and has been \"\n"
     ]
    },
    {
     "data": {
      "text/plain": [
       "<seaborn.axisgrid.JointGrid at 0x1a1a856d30>"
      ]
     },
     "execution_count": 26,
     "metadata": {},
     "output_type": "execute_result"
    },
    {
     "data": {
      "image/png": "[encoded data removed]",
      "text/plain": [
       "<Figure size 432x432 with 3 Axes>"
      ]
     },
     "metadata": {},
     "output_type": "display_data"
    }
   ],
   "source": [
    "sns.jointplot(x='Score', y='number_of_ratings', data=ratings)"
   ]
  },
  {
   "cell_type": "markdown",
   "metadata": {},
   "source": [
    "# Collaborative filtering"
   ]
  },
  {
   "cell_type": "code",
   "execution_count": 44,
   "metadata": {},
   "outputs": [
    {
     "data": {
      "text/html": [
       "<div>\n",
       "<style scoped>\n",
       "    .dataframe tbody tr th:only-of-type {\n",
       "        vertical-align: middle;\n",
       "    }\n",
       "\n",
       "    .dataframe tbody tr th {\n",
       "        vertical-align: top;\n",
       "    }\n",
       "\n",
       "    .dataframe thead th {\n",
       "        text-align: right;\n",
       "    }\n",
       "</style>\n",
       "<table border=\"1\" class=\"dataframe\">\n",
       "  <thead>\n",
       "    <tr style=\"text-align: right;\">\n",
       "      <th></th>\n",
       "      <th>ProductId</th>\n",
       "      <th>UserId</th>\n",
       "      <th>Score</th>\n",
       "      <th>Time</th>\n",
       "    </tr>\n",
       "  </thead>\n",
       "  <tbody>\n",
       "    <tr>\n",
       "      <th>0</th>\n",
       "      <td>B001E4KFG0</td>\n",
       "      <td>A3SGXH7AUHU8GW</td>\n",
       "      <td>5</td>\n",
       "      <td>1303862400</td>\n",
       "    </tr>\n",
       "    <tr>\n",
       "      <th>1</th>\n",
       "      <td>B00813GRG4</td>\n",
       "      <td>A1D87F6ZCVE5NK</td>\n",
       "      <td>1</td>\n",
       "      <td>1346976000</td>\n",
       "    </tr>\n",
       "    <tr>\n",
       "      <th>2</th>\n",
       "      <td>B000LQOCH0</td>\n",
       "      <td>ABXLMWJIXXAIN</td>\n",
       "      <td>4</td>\n",
       "      <td>1219017600</td>\n",
       "    </tr>\n",
       "    <tr>\n",
       "      <th>3</th>\n",
       "      <td>B000UA0QIQ</td>\n",
       "      <td>A395BORC6FGVXV</td>\n",
       "      <td>2</td>\n",
       "      <td>1307923200</td>\n",
       "    </tr>\n",
       "    <tr>\n",
       "      <th>4</th>\n",
       "      <td>B006K2ZZ7K</td>\n",
       "      <td>A1UQRSCLF8GW1T</td>\n",
       "      <td>5</td>\n",
       "      <td>1350777600</td>\n",
       "    </tr>\n",
       "  </tbody>\n",
       "</table>\n",
       "</div>"
      ],
      "text/plain": [
       "    ProductId          UserId  Score        Time\n",
       "0  B001E4KFG0  A3SGXH7AUHU8GW      5  1303862400\n",
       "1  B00813GRG4  A1D87F6ZCVE5NK      1  1346976000\n",
       "2  B000LQOCH0   ABXLMWJIXXAIN      4  1219017600\n",
       "3  B000UA0QIQ  A395BORC6FGVXV      2  1307923200\n",
       "4  B006K2ZZ7K  A1UQRSCLF8GW1T      5  1350777600"
      ]
     },
     "execution_count": 44,
     "metadata": {},
     "output_type": "execute_result"
    }
   ],
   "source": [
    "data_recommender.head()"
   ]
  },
  {
   "cell_type": "code",
   "execution_count": 45,
   "metadata": {},
   "outputs": [],
   "source": [
    "X_rec = data_recommender.loc[:1000,['ProductId', 'UserId', 'Score']]\n",
    "y_rec = data_recommender.loc[:1000,'UserId']"
   ]
  },
  {
   "cell_type": "code",
   "execution_count": 46,
   "metadata": {},
   "outputs": [],
   "source": [
    "from sklearn.model_selection import train_test_split\n",
    "\n",
    "X_train, X_test, y_train, y_test = train_test_split(X_rec, y_rec, test_size=0.2, random_state=42)"
   ]
  },
  {
   "cell_type": "code",
   "execution_count": 42,
   "metadata": {},
   "outputs": [],
   "source": [
    "from sklearn.metrics import mean_squared_error\n",
    "\n",
    "def rmse(y_true, y_pred):\n",
    "    return np.sqrt(mean_squared_error(y_true, y_pred))"
   ]
  },
  {
   "cell_type": "code",
   "execution_count": 43,
   "metadata": {},
   "outputs": [],
   "source": [
    "# Defining the baseline model to always return 3.\n",
    "def baseline(user_id, product_id):\n",
    "    return 3.0"
   ]
  },
  {
   "cell_type": "code",
   "execution_count": 49,
   "metadata": {},
   "outputs": [],
   "source": [
    "def score(cf_model):\n",
    "    \n",
    "    # Constructing a list of user-product tuples from the testing dataset\n",
    "    id_pairs = zip(X_test['UserId'], X_test['ProductId'] )\n",
    "    \n",
    "    # Predicting the score for every user-product tuple\n",
    "    y_pred = np.array([cf_model(user, product) for (user, product) in id_pairs])\n",
    "    \n",
    "    # Extracting the actual ratings given by the users in the testing dataset\n",
    "    y_true = np.array(X_test['Score'])\n",
    "    \n",
    "    # Returning the rsme score\n",
    "    return rmse(y_true, y_pred)\n",
    "\n"
   ]
  },
  {
   "cell_type": "code",
   "execution_count": 50,
   "metadata": {},
   "outputs": [
    {
     "data": {
      "text/plain": [
       "1.7661831686081222"
      ]
     },
     "execution_count": 50,
     "metadata": {},
     "output_type": "execute_result"
    }
   ],
   "source": [
    "# We will try to build a recommender system with a score lower than our baseline model.\n",
    "score(baseline)"
   ]
  },
  {
   "cell_type": "code",
   "execution_count": 64,
   "metadata": {},
   "outputs": [
    {
     "data": {
      "text/html": [
       "<div>\n",
       "<style scoped>\n",
       "    .dataframe tbody tr th:only-of-type {\n",
       "        vertical-align: middle;\n",
       "    }\n",
       "\n",
       "    .dataframe tbody tr th {\n",
       "        vertical-align: top;\n",
       "    }\n",
       "\n",
       "    .dataframe thead th {\n",
       "        text-align: right;\n",
       "    }\n",
       "</style>\n",
       "<table border=\"1\" class=\"dataframe\">\n",
       "  <thead>\n",
       "    <tr style=\"text-align: right;\">\n",
       "      <th>ProductId</th>\n",
       "      <th>B0002567IW</th>\n",
       "      <th>B00029XIZI</th>\n",
       "      <th>B0002XIB2Y</th>\n",
       "      <th>B00061KYVI</th>\n",
       "      <th>B00067AD4U</th>\n",
       "      <th>B0007NG568</th>\n",
       "      <th>B0007NG56I</th>\n",
       "      <th>B0009XLVG0</th>\n",
       "      <th>B0009XLVGA</th>\n",
       "      <th>B000C21OOM</th>\n",
       "      <th>...</th>\n",
       "      <th>B007TFONH0</th>\n",
       "      <th>B007ZENY5W</th>\n",
       "      <th>B00813GRG4</th>\n",
       "      <th>B0081XN2HQ</th>\n",
       "      <th>B00821UN4M</th>\n",
       "      <th>B0087HW5E2</th>\n",
       "      <th>B0089PI9OC</th>\n",
       "      <th>B008BEGP9W</th>\n",
       "      <th>B0093NIWVO</th>\n",
       "      <th>B009HINRX8</th>\n",
       "    </tr>\n",
       "    <tr>\n",
       "      <th>UserId</th>\n",
       "      <th></th>\n",
       "      <th></th>\n",
       "      <th></th>\n",
       "      <th></th>\n",
       "      <th></th>\n",
       "      <th></th>\n",
       "      <th></th>\n",
       "      <th></th>\n",
       "      <th></th>\n",
       "      <th></th>\n",
       "      <th></th>\n",
       "      <th></th>\n",
       "      <th></th>\n",
       "      <th></th>\n",
       "      <th></th>\n",
       "      <th></th>\n",
       "      <th></th>\n",
       "      <th></th>\n",
       "      <th></th>\n",
       "      <th></th>\n",
       "      <th></th>\n",
       "    </tr>\n",
       "  </thead>\n",
       "  <tbody>\n",
       "    <tr>\n",
       "      <th>A104Y49ZQ4CYJ2</th>\n",
       "      <td>NaN</td>\n",
       "      <td>NaN</td>\n",
       "      <td>NaN</td>\n",
       "      <td>NaN</td>\n",
       "      <td>NaN</td>\n",
       "      <td>NaN</td>\n",
       "      <td>NaN</td>\n",
       "      <td>NaN</td>\n",
       "      <td>NaN</td>\n",
       "      <td>NaN</td>\n",
       "      <td>...</td>\n",
       "      <td>NaN</td>\n",
       "      <td>NaN</td>\n",
       "      <td>NaN</td>\n",
       "      <td>NaN</td>\n",
       "      <td>NaN</td>\n",
       "      <td>NaN</td>\n",
       "      <td>NaN</td>\n",
       "      <td>NaN</td>\n",
       "      <td>NaN</td>\n",
       "      <td>NaN</td>\n",
       "    </tr>\n",
       "    <tr>\n",
       "      <th>A108P30XVUFKXY</th>\n",
       "      <td>NaN</td>\n",
       "      <td>NaN</td>\n",
       "      <td>NaN</td>\n",
       "      <td>NaN</td>\n",
       "      <td>NaN</td>\n",
       "      <td>NaN</td>\n",
       "      <td>NaN</td>\n",
       "      <td>NaN</td>\n",
       "      <td>NaN</td>\n",
       "      <td>NaN</td>\n",
       "      <td>...</td>\n",
       "      <td>NaN</td>\n",
       "      <td>NaN</td>\n",
       "      <td>NaN</td>\n",
       "      <td>NaN</td>\n",
       "      <td>NaN</td>\n",
       "      <td>NaN</td>\n",
       "      <td>NaN</td>\n",
       "      <td>NaN</td>\n",
       "      <td>NaN</td>\n",
       "      <td>NaN</td>\n",
       "    </tr>\n",
       "  </tbody>\n",
       "</table>\n",
       "<p>2 rows × 187 columns</p>\n",
       "</div>"
      ],
      "text/plain": [
       "ProductId       B0002567IW  B00029XIZI  B0002XIB2Y  B00061KYVI  B00067AD4U  \\\n",
       "UserId                                                                       \n",
       "A104Y49ZQ4CYJ2         NaN         NaN         NaN         NaN         NaN   \n",
       "A108P30XVUFKXY         NaN         NaN         NaN         NaN         NaN   \n",
       "\n",
       "ProductId       B0007NG568  B0007NG56I  B0009XLVG0  B0009XLVGA  B000C21OOM  \\\n",
       "UserId                                                                       \n",
       "A104Y49ZQ4CYJ2         NaN         NaN         NaN         NaN         NaN   \n",
       "A108P30XVUFKXY         NaN         NaN         NaN         NaN         NaN   \n",
       "\n",
       "ProductId          ...      B007TFONH0  B007ZENY5W  B00813GRG4  B0081XN2HQ  \\\n",
       "UserId             ...                                                       \n",
       "A104Y49ZQ4CYJ2     ...             NaN         NaN         NaN         NaN   \n",
       "A108P30XVUFKXY     ...             NaN         NaN         NaN         NaN   \n",
       "\n",
       "ProductId       B00821UN4M  B0087HW5E2  B0089PI9OC  B008BEGP9W  B0093NIWVO  \\\n",
       "UserId                                                                       \n",
       "A104Y49ZQ4CYJ2         NaN         NaN         NaN         NaN         NaN   \n",
       "A108P30XVUFKXY         NaN         NaN         NaN         NaN         NaN   \n",
       "\n",
       "ProductId       B009HINRX8  \n",
       "UserId                      \n",
       "A104Y49ZQ4CYJ2         NaN  \n",
       "A108P30XVUFKXY         NaN  \n",
       "\n",
       "[2 rows x 187 columns]"
      ]
     },
     "execution_count": 64,
     "metadata": {},
     "output_type": "execute_result"
    }
   ],
   "source": [
    "# Building a ratings matrix where each row represents a user,\n",
    "# each column represents a product, and the values are the scores.\n",
    "# Then the value in the ith row and jth column will denote the score\n",
    "# given by user i to product j.\n",
    "\n",
    "r_matrix = X_train.pivot_table(index = 'UserId', columns = 'ProductId', values = 'Score')\n",
    "\n",
    "r_matrix.head(2)"
   ]
  },
  {
   "cell_type": "code",
   "execution_count": 53,
   "metadata": {},
   "outputs": [],
   "source": [
    "# User based collaborative filtering using mean of scores\n",
    "# Assigning equal wights to all users when calculating the score\n",
    "\n",
    "def cf_user_mean(UserId, ProductId):\n",
    "    # Check if product exists in r_matrix\n",
    "    if ProductId in r_matrix:\n",
    "        # Compute the mean of all the scores given to that product\n",
    "        mean_rating = r_matrix[ProductId].mean()\n",
    "        \n",
    "    else:\n",
    "        # Default to a rating of 3.0 in the absence of any information\n",
    "        mean_rating = 3.0\n",
    "        \n",
    "    return mean_rating\n",
    "\n"
   ]
  },
  {
   "cell_type": "code",
   "execution_count": 62,
   "metadata": {},
   "outputs": [
    {
     "data": {
      "text/plain": [
       "1.3446551627203842"
      ]
     },
     "execution_count": 62,
     "metadata": {},
     "output_type": "execute_result"
    }
   ],
   "source": [
    "# RMSE for the mean model\n",
    "# the score is better than the baseline model\n",
    "score(cf_user_mean)"
   ]
  },
  {
   "cell_type": "code",
   "execution_count": 63,
   "metadata": {},
   "outputs": [
    {
     "data": {
      "text/html": [
       "<div>\n",
       "<style scoped>\n",
       "    .dataframe tbody tr th:only-of-type {\n",
       "        vertical-align: middle;\n",
       "    }\n",
       "\n",
       "    .dataframe tbody tr th {\n",
       "        vertical-align: top;\n",
       "    }\n",
       "\n",
       "    .dataframe thead th {\n",
       "        text-align: right;\n",
       "    }\n",
       "</style>\n",
       "<table border=\"1\" class=\"dataframe\">\n",
       "  <thead>\n",
       "    <tr style=\"text-align: right;\">\n",
       "      <th>UserId</th>\n",
       "      <th>A104Y49ZQ4CYJ2</th>\n",
       "      <th>A108P30XVUFKXY</th>\n",
       "      <th>A10EHUTGNC4BGP</th>\n",
       "      <th>A11LJJL1SOH6W0</th>\n",
       "      <th>A11QUNPSCNHY62</th>\n",
       "      <th>A11UPZ6LI1UJZY</th>\n",
       "      <th>A11VPI6WLMQ2ZQ</th>\n",
       "      <th>A12OF4IM7A8YS</th>\n",
       "      <th>A12T0F58OKHCIW</th>\n",
       "      <th>A137DV4YVGWDCR</th>\n",
       "      <th>...</th>\n",
       "      <th>AYAU6OMJ81Q7Z</th>\n",
       "      <th>AYB4ELCS5AM8P</th>\n",
       "      <th>AYMV2T86WIXVD</th>\n",
       "      <th>AYSEXV27DPQ3E</th>\n",
       "      <th>AYZZSRYAIXNOS</th>\n",
       "      <th>AZ2NEHE8TNRUW</th>\n",
       "      <th>AZ3FPU1QSFBC6</th>\n",
       "      <th>AZ7289G0ILRFF</th>\n",
       "      <th>AZLONLC8OZPEC</th>\n",
       "      <th>AZOF9E17RGZH8</th>\n",
       "    </tr>\n",
       "    <tr>\n",
       "      <th>UserId</th>\n",
       "      <th></th>\n",
       "      <th></th>\n",
       "      <th></th>\n",
       "      <th></th>\n",
       "      <th></th>\n",
       "      <th></th>\n",
       "      <th></th>\n",
       "      <th></th>\n",
       "      <th></th>\n",
       "      <th></th>\n",
       "      <th></th>\n",
       "      <th></th>\n",
       "      <th></th>\n",
       "      <th></th>\n",
       "      <th></th>\n",
       "      <th></th>\n",
       "      <th></th>\n",
       "      <th></th>\n",
       "      <th></th>\n",
       "      <th></th>\n",
       "      <th></th>\n",
       "    </tr>\n",
       "  </thead>\n",
       "  <tbody>\n",
       "    <tr>\n",
       "      <th>A104Y49ZQ4CYJ2</th>\n",
       "      <td>1.0</td>\n",
       "      <td>0.0</td>\n",
       "      <td>0.0</td>\n",
       "      <td>0.0</td>\n",
       "      <td>0.0</td>\n",
       "      <td>0.0</td>\n",
       "      <td>0.0</td>\n",
       "      <td>0.0</td>\n",
       "      <td>0.0</td>\n",
       "      <td>0.0</td>\n",
       "      <td>...</td>\n",
       "      <td>0.0</td>\n",
       "      <td>0.0</td>\n",
       "      <td>0.0</td>\n",
       "      <td>0.0</td>\n",
       "      <td>0.0</td>\n",
       "      <td>0.0</td>\n",
       "      <td>0.0</td>\n",
       "      <td>0.0</td>\n",
       "      <td>0.0</td>\n",
       "      <td>0.0</td>\n",
       "    </tr>\n",
       "    <tr>\n",
       "      <th>A108P30XVUFKXY</th>\n",
       "      <td>0.0</td>\n",
       "      <td>1.0</td>\n",
       "      <td>0.0</td>\n",
       "      <td>0.0</td>\n",
       "      <td>0.0</td>\n",
       "      <td>0.0</td>\n",
       "      <td>0.0</td>\n",
       "      <td>0.0</td>\n",
       "      <td>0.0</td>\n",
       "      <td>0.0</td>\n",
       "      <td>...</td>\n",
       "      <td>0.0</td>\n",
       "      <td>0.0</td>\n",
       "      <td>0.0</td>\n",
       "      <td>0.0</td>\n",
       "      <td>0.0</td>\n",
       "      <td>0.0</td>\n",
       "      <td>0.0</td>\n",
       "      <td>0.0</td>\n",
       "      <td>0.0</td>\n",
       "      <td>0.0</td>\n",
       "    </tr>\n",
       "  </tbody>\n",
       "</table>\n",
       "<p>2 rows × 777 columns</p>\n",
       "</div>"
      ],
      "text/plain": [
       "UserId          A104Y49ZQ4CYJ2  A108P30XVUFKXY  A10EHUTGNC4BGP  \\\n",
       "UserId                                                           \n",
       "A104Y49ZQ4CYJ2             1.0             0.0             0.0   \n",
       "A108P30XVUFKXY             0.0             1.0             0.0   \n",
       "\n",
       "UserId          A11LJJL1SOH6W0  A11QUNPSCNHY62  A11UPZ6LI1UJZY  \\\n",
       "UserId                                                           \n",
       "A104Y49ZQ4CYJ2             0.0             0.0             0.0   \n",
       "A108P30XVUFKXY             0.0             0.0             0.0   \n",
       "\n",
       "UserId          A11VPI6WLMQ2ZQ  A12OF4IM7A8YS  A12T0F58OKHCIW  A137DV4YVGWDCR  \\\n",
       "UserId                                                                          \n",
       "A104Y49ZQ4CYJ2             0.0            0.0             0.0             0.0   \n",
       "A108P30XVUFKXY             0.0            0.0             0.0             0.0   \n",
       "\n",
       "UserId              ...        AYAU6OMJ81Q7Z  AYB4ELCS5AM8P  AYMV2T86WIXVD  \\\n",
       "UserId              ...                                                      \n",
       "A104Y49ZQ4CYJ2      ...                  0.0            0.0            0.0   \n",
       "A108P30XVUFKXY      ...                  0.0            0.0            0.0   \n",
       "\n",
       "UserId          AYSEXV27DPQ3E  AYZZSRYAIXNOS  AZ2NEHE8TNRUW  AZ3FPU1QSFBC6  \\\n",
       "UserId                                                                       \n",
       "A104Y49ZQ4CYJ2            0.0            0.0            0.0            0.0   \n",
       "A108P30XVUFKXY            0.0            0.0            0.0            0.0   \n",
       "\n",
       "UserId          AZ7289G0ILRFF  AZLONLC8OZPEC  AZOF9E17RGZH8  \n",
       "UserId                                                       \n",
       "A104Y49ZQ4CYJ2            0.0            0.0            0.0  \n",
       "A108P30XVUFKXY            0.0            0.0            0.0  \n",
       "\n",
       "[2 rows x 777 columns]"
      ]
     },
     "execution_count": 63,
     "metadata": {},
     "output_type": "execute_result"
    }
   ],
   "source": [
    "# Weighted mean\n",
    "# It's better to give a higher weight to those users whose scores are similar\n",
    "# to the user in question.\n",
    "# Using cosine similarity function\n",
    "# Cosine similarity function does not work with NaN values.\n",
    "# Therfore we need to convert all missing values in the r_matrix to zero.\n",
    "\n",
    "r_matrix_dummy = r_matrix.copy().fillna(0)\n",
    "\n",
    "from sklearn.metrics.pairwise import cosine_similarity\n",
    "\n",
    "cosine_sim = cosine_similarity(r_matrix_dummy, r_matrix_dummy)\n",
    "\n",
    "cosine_sim = pd.DataFrame(cosine_sim, index = r_matrix.index, columns = r_matrix.index)\n",
    "\n",
    "cosine_sim.head(2)"
   ]
  },
  {
   "cell_type": "code",
   "execution_count": 60,
   "metadata": {},
   "outputs": [],
   "source": [
    "# User based collaborative filtering using weighted mean ratings\n",
    "def cf_user_wmean(UserId, ProductId):\n",
    "    \n",
    "    # check if product exists in r_matrix\n",
    "    if ProductId in r_matrix:\n",
    "        \n",
    "        # Get the similarity scores for the user in question with every other user\n",
    "        sim_scores = cosine_sim[UserId]\n",
    "        \n",
    "        # Get the user ratings for the product in question\n",
    "        p_ratings = r_matrix[ProductId]\n",
    "        \n",
    "        # Extract the indices with NaN value in the p_ratings series\n",
    "        idx = p_ratings[p_ratings.isnull()].index\n",
    "        \n",
    "        # Drop the NaN values from p_ratings series\n",
    "        p_ratings = p_ratings.dropna()\n",
    "        \n",
    "        # Drop the corresponding cosine scores from the sim_scores series\n",
    "        sim_scores = sim_scores.drop(idx)\n",
    "        \n",
    "        # Compute the final weighted mean\n",
    "        wmean_rating = np.dot(sim_scores, p_ratings) / sim_scores.sum()\n",
    "        \n",
    "    else:\n",
    "        \n",
    "        # Default to a rating of 3.0 in the absence of any information\n",
    "        wmean_rating = 3.0\n",
    "        \n",
    "    return wmean_rating\n",
    "        \n",
    "\n"
   ]
  },
  {
   "cell_type": "code",
   "execution_count": 4,
   "metadata": {},
   "outputs": [],
   "source": [
    "data_surprise = data_recommender.loc[:1000 , ['UserId', 'ProductId', 'Score']]"
   ]
  },
  {
   "cell_type": "code",
   "execution_count": 80,
   "metadata": {},
   "outputs": [
    {
     "data": {
      "text/html": [
       "<div>\n",
       "<style scoped>\n",
       "    .dataframe tbody tr th:only-of-type {\n",
       "        vertical-align: middle;\n",
       "    }\n",
       "\n",
       "    .dataframe tbody tr th {\n",
       "        vertical-align: top;\n",
       "    }\n",
       "\n",
       "    .dataframe thead th {\n",
       "        text-align: right;\n",
       "    }\n",
       "</style>\n",
       "<table border=\"1\" class=\"dataframe\">\n",
       "  <thead>\n",
       "    <tr style=\"text-align: right;\">\n",
       "      <th></th>\n",
       "      <th>UserId</th>\n",
       "      <th>ProductId</th>\n",
       "      <th>Score</th>\n",
       "    </tr>\n",
       "  </thead>\n",
       "  <tbody>\n",
       "    <tr>\n",
       "      <th>0</th>\n",
       "      <td>A3SGXH7AUHU8GW</td>\n",
       "      <td>B001E4KFG0</td>\n",
       "      <td>5</td>\n",
       "    </tr>\n",
       "    <tr>\n",
       "      <th>1</th>\n",
       "      <td>A1D87F6ZCVE5NK</td>\n",
       "      <td>B00813GRG4</td>\n",
       "      <td>1</td>\n",
       "    </tr>\n",
       "    <tr>\n",
       "      <th>2</th>\n",
       "      <td>ABXLMWJIXXAIN</td>\n",
       "      <td>B000LQOCH0</td>\n",
       "      <td>4</td>\n",
       "    </tr>\n",
       "    <tr>\n",
       "      <th>3</th>\n",
       "      <td>A395BORC6FGVXV</td>\n",
       "      <td>B000UA0QIQ</td>\n",
       "      <td>2</td>\n",
       "    </tr>\n",
       "    <tr>\n",
       "      <th>4</th>\n",
       "      <td>A1UQRSCLF8GW1T</td>\n",
       "      <td>B006K2ZZ7K</td>\n",
       "      <td>5</td>\n",
       "    </tr>\n",
       "  </tbody>\n",
       "</table>\n",
       "</div>"
      ],
      "text/plain": [
       "           UserId   ProductId  Score\n",
       "0  A3SGXH7AUHU8GW  B001E4KFG0      5\n",
       "1  A1D87F6ZCVE5NK  B00813GRG4      1\n",
       "2   ABXLMWJIXXAIN  B000LQOCH0      4\n",
       "3  A395BORC6FGVXV  B000UA0QIQ      2\n",
       "4  A1UQRSCLF8GW1T  B006K2ZZ7K      5"
      ]
     },
     "execution_count": 80,
     "metadata": {},
     "output_type": "execute_result"
    }
   ],
   "source": [
    "data_surprise.head()"
   ]
  },
  {
   "cell_type": "code",
   "execution_count": 5,
   "metadata": {},
   "outputs": [
    {
     "name": "stdout",
     "output_type": "stream",
     "text": [
      "Evaluating RMSE of algorithm KNNBasic.\n",
      "\n",
      "------------\n",
      "Fold 1\n",
      "Computing the msd similarity matrix...\n",
      "Done computing similarity matrix.\n",
      "RMSE: 1.2962\n",
      "------------\n",
      "Fold 2\n",
      "Computing the msd similarity matrix...\n",
      "Done computing similarity matrix.\n",
      "RMSE: 1.3730\n",
      "------------\n",
      "Fold 3\n",
      "Computing the msd similarity matrix...\n",
      "Done computing similarity matrix.\n",
      "RMSE: 1.2698\n",
      "------------\n",
      "Fold 4\n",
      "Computing the msd similarity matrix...\n",
      "Done computing similarity matrix.\n",
      "RMSE: 1.3641\n",
      "------------\n",
      "Fold 5\n",
      "Computing the msd similarity matrix...\n",
      "Done computing similarity matrix.\n",
      "RMSE: 1.3205\n",
      "------------\n",
      "------------\n",
      "Mean RMSE: 1.3247\n",
      "------------\n",
      "------------\n"
     ]
    },
    {
     "name": "stderr",
     "output_type": "stream",
     "text": [
      "/Applications/anaconda3/lib/python3.6/site-packages/surprise/evaluate.py:66: UserWarning: The evaluate() method is deprecated. Please use model_selection.cross_validate() instead.\n",
      "  'model_selection.cross_validate() instead.', UserWarning)\n",
      "/Applications/anaconda3/lib/python3.6/site-packages/surprise/dataset.py:193: UserWarning: Using data.split() or using load_from_folds() without using a CV iterator is now deprecated. \n",
      "  UserWarning)\n"
     ]
    },
    {
     "data": {
      "text/plain": [
       "CaseInsensitiveDefaultDict(list,\n",
       "                           {'rmse': [1.2961829095738864,\n",
       "                             1.3730175084801437,\n",
       "                             1.2697566873121826,\n",
       "                             1.3640878290396823,\n",
       "                             1.3204518363821316]})"
      ]
     },
     "execution_count": 5,
     "metadata": {},
     "output_type": "execute_result"
    }
   ],
   "source": [
    "\n",
    "\n",
    "from surprise import Reader, Dataset, KNNBasic, evaluate\n",
    "\n",
    "reader = Reader()\n",
    "\n",
    "dataset = Dataset.load_from_df(data_surprise, reader)\n",
    "\n",
    "knn = KNNBasic()\n",
    "\n",
    "evaluate(knn, dataset, measures = ['RMSE'])"
   ]
  },
  {
   "cell_type": "code",
   "execution_count": 10,
   "metadata": {},
   "outputs": [
    {
     "name": "stderr",
     "output_type": "stream",
     "text": [
      "/Applications/anaconda3/lib/python3.6/site-packages/surprise/evaluate.py:66: UserWarning: The evaluate() method is deprecated. Please use model_selection.cross_validate() instead.\n",
      "  'model_selection.cross_validate() instead.', UserWarning)\n",
      "/Applications/anaconda3/lib/python3.6/site-packages/surprise/dataset.py:193: UserWarning: Using data.split() or using load_from_folds() without using a CV iterator is now deprecated. \n",
      "  UserWarning)\n"
     ]
    },
    {
     "name": "stdout",
     "output_type": "stream",
     "text": [
      "Evaluating RMSE of algorithm SVD.\n",
      "\n",
      "------------\n",
      "Fold 1\n",
      "RMSE: 1.2863\n",
      "------------\n",
      "Fold 2\n",
      "RMSE: 1.3369\n",
      "------------\n",
      "Fold 3\n",
      "RMSE: 1.2642\n",
      "------------\n",
      "Fold 4\n",
      "RMSE: 1.3247\n",
      "------------\n",
      "Fold 5\n",
      "RMSE: 1.3083\n",
      "------------\n",
      "------------\n",
      "Mean RMSE: 1.3041\n",
      "------------\n",
      "------------\n"
     ]
    },
    {
     "data": {
      "text/plain": [
       "CaseInsensitiveDefaultDict(list,\n",
       "                           {'rmse': [1.2862587924408273,\n",
       "                             1.3369039924598491,\n",
       "                             1.2641723896415604,\n",
       "                             1.3247314272681825,\n",
       "                             1.308300007750743]})"
      ]
     },
     "execution_count": 10,
     "metadata": {},
     "output_type": "execute_result"
    }
   ],
   "source": [
    "from surprise import SVD\n",
    "\n",
    "svd = SVD()\n",
    "\n",
    "evaluate(svd, dataset, measures = ['RMSE'])\n"
   ]
  },
  {
   "cell_type": "code",
   "execution_count": null,
   "metadata": {},
   "outputs": [],
   "source": []
  }
 ],
 "metadata": {
  "kernelspec": {
   "display_name": "Python 3",
   "language": "python",
   "name": "python3"
  },
  "language_info": {
   "codemirror_mode": {
    "name": "ipython",
    "version": 3
   },
   "file_extension": ".py",
   "mimetype": "text/x-python",
   "name": "python",
   "nbconvert_exporter": "python",
   "pygments_lexer": "ipython3",
   "version": "3.6.6"
  }
 },
 "nbformat": 4,
 "nbformat_minor": 2
}
